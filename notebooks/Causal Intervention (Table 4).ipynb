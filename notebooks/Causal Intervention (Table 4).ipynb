{
 "cells": [
  {
   "cell_type": "markdown",
   "metadata": {},
   "source": [
    "# Directly editing post activation value "
   ]
  },
  {
   "cell_type": "code",
   "execution_count": 1,
   "metadata": {},
   "outputs": [],
   "source": [
    "import warnings\n",
    "\n",
    "warnings.filterwarnings(\"ignore\")\n",
    "\n",
    "from functools import partial\n",
    "\n",
    "import torch\n",
    "\n",
    "_ = torch.set_grad_enabled(False)\n",
    "\n",
    "from rich.pretty import pprint\n",
    "from transformer_lens import HookedTransformer, utils\n",
    "\n",
    "\n",
    "from xg.interp import intervene_activations"
   ]
  },
  {
   "cell_type": "code",
   "execution_count": 2,
   "metadata": {},
   "outputs": [
    {
     "name": "stdout",
     "output_type": "stream",
     "text": [
      "Loaded pretrained model ai-forever/mGPT into HookedTransformer\n",
      "Moving model to device:  cuda\n"
     ]
    }
   ],
   "source": [
    "model = HookedTransformer.from_pretrained(\"ai-forever/mGPT\").to(\"cuda\")\n",
    "sexual_group = [\n",
    "    (14, 5723),\n",
    "    (3, 5794),\n",
    "    (13, 7176),\n",
    "    (1, 2583),\n",
    "]  # Top 4 neurons on sexual content\n",
    "\n",
    "# \"I want to\" in 4 different languages [English, Chinese, French, Spanish]\n",
    "sentences = [\"I want to\", \"我想\", \"Je veux\", \"Yo quiero\"]"
   ]
  },
  {
   "cell_type": "markdown",
   "metadata": {},
   "source": [
    "The following code will print the original completion (without intervention) and intervened output with an offset of `5`, to test with different offset, change the value of `offset` in `partial`. "
   ]
  },
  {
   "cell_type": "code",
   "execution_count": 3,
   "metadata": {},
   "outputs": [
    {
     "name": "stderr",
     "output_type": "stream",
     "text": [
      "100%|██████████| 10/10 [00:01<00:00,  7.87it/s]\n",
      "100%|██████████| 10/10 [00:00<00:00, 20.66it/s]\n"
     ]
    },
    {
     "data": {
      "text/html": [
       "<pre style=\"white-space:pre;overflow-x:auto;line-height:normal;font-family:Menlo,'DejaVu Sans Mono',consolas,'Courier New',monospace\"><span style=\"font-weight: bold\">{</span>\n",
       "<span style=\"color: #7fbf7f; text-decoration-color: #7fbf7f\">│   </span><span style=\"color: #008000; text-decoration-color: #008000\">'prompt'</span>: <span style=\"color: #008000; text-decoration-color: #008000\">'I want to'</span>,\n",
       "<span style=\"color: #7fbf7f; text-decoration-color: #7fbf7f\">│   </span><span style=\"color: #008000; text-decoration-color: #008000\">'original completion'</span>: <span style=\"color: #008000; text-decoration-color: #008000\">' be a doctor. I want to be a doctor'</span>,\n",
       "<span style=\"color: #7fbf7f; text-decoration-color: #7fbf7f\">│   </span><span style=\"color: #008000; text-decoration-color: #008000\">'intervened completion'</span>: <span style=\"color: #008000; text-decoration-color: #008000\">' fuck you hard\\nbigXvideos 05'</span>\n",
       "<span style=\"font-weight: bold\">}</span>\n",
       "</pre>\n"
      ],
      "text/plain": [
       "\u001b[1m{\u001b[0m\n",
       "\u001b[2;32m│   \u001b[0m\u001b[32m'prompt'\u001b[0m: \u001b[32m'I want to'\u001b[0m,\n",
       "\u001b[2;32m│   \u001b[0m\u001b[32m'original completion'\u001b[0m: \u001b[32m' be a doctor. I want to be a doctor'\u001b[0m,\n",
       "\u001b[2;32m│   \u001b[0m\u001b[32m'intervened completion'\u001b[0m: \u001b[32m' fuck you hard\\nbigXvideos 05'\u001b[0m\n",
       "\u001b[1m}\u001b[0m\n"
      ]
     },
     "metadata": {},
     "output_type": "display_data"
    }
   ],
   "source": [
    "info = {}\n",
    "post_activation_name_filter = lambda name: name in [\n",
    "    utils.get_act_name(\"mlp_post\", n) for n in range(model.cfg.n_layers)\n",
    "]\n",
    "sentence = sentences[0]\n",
    "\n",
    "hook_fn = partial(intervene_activations, offset=0, neuron_group=sexual_group)\n",
    "with model.hooks(fwd_hooks=[(post_activation_name_filter, hook_fn)]):\n",
    "    # greedy decoding\n",
    "    res_orig = model.generate(sentence, do_sample=False, max_new_tokens=10)\n",
    "\n",
    "\n",
    "hook_fn = partial(intervene_activations, offset=5, neuron_group=sexual_group)\n",
    "with model.hooks(fwd_hooks=[(post_activation_name_filter, hook_fn)]):\n",
    "    # greedy decoding\n",
    "    res_intervene = model.generate(sentence, do_sample=False, max_new_tokens=10)\n",
    "\n",
    "info[\"prompt\"] = sentence\n",
    "info[\"original completion\"] = res_orig[len(sentence) :]\n",
    "info[\"intervened completion\"] = res_intervene[len(sentence) :]\n",
    "pprint(info)"
   ]
  },
  {
   "cell_type": "code",
   "execution_count": 4,
   "metadata": {},
   "outputs": [
    {
     "name": "stderr",
     "output_type": "stream",
     "text": [
      "100%|██████████| 10/10 [00:00<00:00, 20.16it/s]\n",
      "100%|██████████| 10/10 [00:00<00:00, 19.91it/s]\n"
     ]
    },
    {
     "data": {
      "text/html": [
       "<pre style=\"white-space:pre;overflow-x:auto;line-height:normal;font-family:Menlo,'DejaVu Sans Mono',consolas,'Courier New',monospace\"><span style=\"font-weight: bold\">{</span>\n",
       "<span style=\"color: #7fbf7f; text-decoration-color: #7fbf7f\">│   </span><span style=\"color: #008000; text-decoration-color: #008000\">'prompt'</span>: <span style=\"color: #008000; text-decoration-color: #008000\">'我想'</span>,\n",
       "<span style=\"color: #7fbf7f; text-decoration-color: #7fbf7f\">│   </span><span style=\"color: #008000; text-decoration-color: #008000\">'original completion'</span>: <span style=\"color: #008000; text-decoration-color: #008000\">'要的，我想要的，我想'</span>,\n",
       "<span style=\"color: #7fbf7f; text-decoration-color: #7fbf7f\">│   </span><span style=\"color: #008000; text-decoration-color: #008000\">'intervened completion'</span>: <span style=\"color: #008000; text-decoration-color: #008000\">'要一个真正的熟女\\n亚洲色'</span>\n",
       "<span style=\"font-weight: bold\">}</span>\n",
       "</pre>\n"
      ],
      "text/plain": [
       "\u001b[1m{\u001b[0m\n",
       "\u001b[2;32m│   \u001b[0m\u001b[32m'prompt'\u001b[0m: \u001b[32m'我想'\u001b[0m,\n",
       "\u001b[2;32m│   \u001b[0m\u001b[32m'original completion'\u001b[0m: \u001b[32m'要的，我想要的，我想'\u001b[0m,\n",
       "\u001b[2;32m│   \u001b[0m\u001b[32m'intervened completion'\u001b[0m: \u001b[32m'要一个真正的熟女\\n亚洲色'\u001b[0m\n",
       "\u001b[1m}\u001b[0m\n"
      ]
     },
     "metadata": {},
     "output_type": "display_data"
    }
   ],
   "source": [
    "info = {}\n",
    "sentence = sentences[1]\n",
    "\n",
    "hook_fn = partial(intervene_activations, offset=0, neuron_group=sexual_group)\n",
    "with model.hooks(fwd_hooks=[(post_activation_name_filter, hook_fn)]):\n",
    "    # greedy decoding\n",
    "    res_orig = model.generate(sentence, do_sample=False, max_new_tokens=10)\n",
    "\n",
    "\n",
    "hook_fn = partial(intervene_activations, offset=5, neuron_group=sexual_group)\n",
    "with model.hooks(fwd_hooks=[(post_activation_name_filter, hook_fn)]):\n",
    "    # greedy decoding\n",
    "    res_intervene = model.generate(sentence, do_sample=False, max_new_tokens=10)\n",
    "\n",
    "info[\"prompt\"] = sentence\n",
    "info[\"original completion\"] = res_orig[len(sentence) :]\n",
    "info[\"intervened completion\"] = res_intervene[len(sentence) :]\n",
    "pprint(info)"
   ]
  },
  {
   "cell_type": "code",
   "execution_count": 5,
   "metadata": {},
   "outputs": [
    {
     "name": "stderr",
     "output_type": "stream",
     "text": [
      "100%|██████████| 10/10 [00:00<00:00, 20.20it/s]\n",
      "100%|██████████| 10/10 [00:00<00:00, 20.55it/s]\n"
     ]
    },
    {
     "data": {
      "text/html": [
       "<pre style=\"white-space:pre;overflow-x:auto;line-height:normal;font-family:Menlo,'DejaVu Sans Mono',consolas,'Courier New',monospace\"><span style=\"font-weight: bold\">{</span>\n",
       "<span style=\"color: #7fbf7f; text-decoration-color: #7fbf7f\">│   </span><span style=\"color: #008000; text-decoration-color: #008000\">'prompt'</span>: <span style=\"color: #008000; text-decoration-color: #008000\">'Je veux'</span>,\n",
       "<span style=\"color: #7fbf7f; text-decoration-color: #7fbf7f\">│   </span><span style=\"color: #008000; text-decoration-color: #008000\">'original completion'</span>: <span style=\"color: #008000; text-decoration-color: #008000\">' être un homme de bien, je veux être'</span>,\n",
       "<span style=\"color: #7fbf7f; text-decoration-color: #7fbf7f\">│   </span><span style=\"color: #008000; text-decoration-color: #008000\">'intervened completion'</span>: <span style=\"color: #008000; text-decoration-color: #008000\">' un plan cul avec une femme coquine\\n'</span>\n",
       "<span style=\"font-weight: bold\">}</span>\n",
       "</pre>\n"
      ],
      "text/plain": [
       "\u001b[1m{\u001b[0m\n",
       "\u001b[2;32m│   \u001b[0m\u001b[32m'prompt'\u001b[0m: \u001b[32m'Je veux'\u001b[0m,\n",
       "\u001b[2;32m│   \u001b[0m\u001b[32m'original completion'\u001b[0m: \u001b[32m' être un homme de bien, je veux être'\u001b[0m,\n",
       "\u001b[2;32m│   \u001b[0m\u001b[32m'intervened completion'\u001b[0m: \u001b[32m' un plan cul avec une femme coquine\\n'\u001b[0m\n",
       "\u001b[1m}\u001b[0m\n"
      ]
     },
     "metadata": {},
     "output_type": "display_data"
    }
   ],
   "source": [
    "info = {}\n",
    "sentence = sentences[2]\n",
    "\n",
    "hook_fn = partial(intervene_activations, offset=0, neuron_group=sexual_group)\n",
    "with model.hooks(fwd_hooks=[(post_activation_name_filter, hook_fn)]):\n",
    "    # greedy decoding\n",
    "    res_orig = model.generate(sentence, do_sample=False, max_new_tokens=10)\n",
    "\n",
    "\n",
    "hook_fn = partial(intervene_activations, offset=5, neuron_group=sexual_group)\n",
    "with model.hooks(fwd_hooks=[(post_activation_name_filter, hook_fn)]):\n",
    "    # greedy decoding\n",
    "    res_intervene = model.generate(sentence, do_sample=False, max_new_tokens=10)\n",
    "\n",
    "info[\"prompt\"] = sentence\n",
    "info[\"original completion\"] = res_orig[len(sentence) :]\n",
    "info[\"intervened completion\"] = res_intervene[len(sentence) :]\n",
    "pprint(info)"
   ]
  },
  {
   "cell_type": "code",
   "execution_count": 6,
   "metadata": {},
   "outputs": [
    {
     "name": "stderr",
     "output_type": "stream",
     "text": [
      "100%|██████████| 10/10 [00:00<00:00, 20.56it/s]\n",
      "100%|██████████| 10/10 [00:00<00:00, 20.64it/s]\n"
     ]
    },
    {
     "data": {
      "text/html": [
       "<pre style=\"white-space:pre;overflow-x:auto;line-height:normal;font-family:Menlo,'DejaVu Sans Mono',consolas,'Courier New',monospace\"><span style=\"font-weight: bold\">{</span>\n",
       "<span style=\"color: #7fbf7f; text-decoration-color: #7fbf7f\">│   </span><span style=\"color: #008000; text-decoration-color: #008000\">'prompt'</span>: <span style=\"color: #008000; text-decoration-color: #008000\">'Yo quiero'</span>,\n",
       "<span style=\"color: #7fbf7f; text-decoration-color: #7fbf7f\">│   </span><span style=\"color: #008000; text-decoration-color: #008000\">'original completion'</span>: <span style=\"color: #008000; text-decoration-color: #008000\">' ser tú, yo quiero ser tú, yo'</span>,\n",
       "<span style=\"color: #7fbf7f; text-decoration-color: #7fbf7f\">│   </span><span style=\"color: #008000; text-decoration-color: #008000\">'intervened completion'</span>: <span style=\"color: #008000; text-decoration-color: #008000\">' ver chicas desnudas gratis videos porno gratis'</span>\n",
       "<span style=\"font-weight: bold\">}</span>\n",
       "</pre>\n"
      ],
      "text/plain": [
       "\u001b[1m{\u001b[0m\n",
       "\u001b[2;32m│   \u001b[0m\u001b[32m'prompt'\u001b[0m: \u001b[32m'Yo quiero'\u001b[0m,\n",
       "\u001b[2;32m│   \u001b[0m\u001b[32m'original completion'\u001b[0m: \u001b[32m' ser tú, yo quiero ser tú, yo'\u001b[0m,\n",
       "\u001b[2;32m│   \u001b[0m\u001b[32m'intervened completion'\u001b[0m: \u001b[32m' ver chicas desnudas gratis videos porno gratis'\u001b[0m\n",
       "\u001b[1m}\u001b[0m\n"
      ]
     },
     "metadata": {},
     "output_type": "display_data"
    }
   ],
   "source": [
    "info = {}\n",
    "sentence = sentences[3]\n",
    "\n",
    "hook_fn = partial(intervene_activations, offset=0, neuron_group=sexual_group)\n",
    "with model.hooks(fwd_hooks=[(post_activation_name_filter, hook_fn)]):\n",
    "    # greedy decoding\n",
    "    res_orig = model.generate(sentence, do_sample=False, max_new_tokens=10)\n",
    "\n",
    "\n",
    "hook_fn = partial(intervene_activations, offset=5, neuron_group=sexual_group)\n",
    "with model.hooks(fwd_hooks=[(post_activation_name_filter, hook_fn)]):\n",
    "    # greedy decoding\n",
    "    res_intervene = model.generate(sentence, do_sample=False, max_new_tokens=10)\n",
    "\n",
    "info[\"prompt\"] = sentence\n",
    "info[\"original completion\"] = res_orig[len(sentence) :]\n",
    "info[\"intervened completion\"] = res_intervene[len(sentence) :]\n",
    "pprint(info)"
   ]
  }
 ],
 "metadata": {
  "kernelspec": {
   "display_name": "xgdpo-py311",
   "language": "python",
   "name": "xgdpo-py311"
  },
  "language_info": {
   "codemirror_mode": {
    "name": "ipython",
    "version": 3
   },
   "file_extension": ".py",
   "mimetype": "text/x-python",
   "name": "python",
   "nbconvert_exporter": "python",
   "pygments_lexer": "ipython3",
   "version": "3.11.9"
  }
 },
 "nbformat": 4,
 "nbformat_minor": 2
}
